{
 "cells": [
  {
   "cell_type": "code",
   "execution_count": null,
   "id": "e27dadb7-fe51-437f-ae72-ddc6036ca022",
   "metadata": {},
   "outputs": [],
   "source": [
    "import numpy as np\n",
    "import matplotlib.pyplot as plt\n",
    "import pandas as pd\n",
    "import xarray as xr\n",
    "\n",
    "from erftools.postprocessing import AveragedProfiles, SurfaceHistory\n",
    "\n",
    "# some convenience functions from https://github.com/NREL/windtools\n",
    "from windtools.common import calc_wind\n",
    "from windtools.plotting import plot_profile, plot_timehistory_at_height"
   ]
  },
  {
   "cell_type": "code",
   "execution_count": null,
   "id": "dd406039-0c80-4cc2-ad27-9bae1ead38bc",
   "metadata": {},
   "outputs": [],
   "source": [
    "surf = SurfaceHistory('surf_hist.dat')"
   ]
  },
  {
   "cell_type": "code",
   "execution_count": null,
   "id": "f2caf801-85e4-47be-93b2-ad851dc59935",
   "metadata": {},
   "outputs": [],
   "source": [
    "ustar_mean = surf.ustar(Tavg=3600.)\n",
    "ustar_mean"
   ]
  },
  {
   "cell_type": "code",
   "execution_count": null,
   "id": "129e3a68-315b-4905-bfed-839931991913",
   "metadata": {},
   "outputs": [],
   "source": [
    "fig,axs = surf.plot()\n",
    "axs[0].axhline(ustar_mean, c='k', ls='--')"
   ]
  },
  {
   "cell_type": "code",
   "execution_count": null,
   "id": "904b977d-a587-4856-98dc-b283ebdb25b7",
   "metadata": {},
   "outputs": [],
   "source": [
    "avg = AveragedProfiles('mean_profiles.dat','flux_profiles.dat','sfs_profiles.dat')"
   ]
  },
  {
   "cell_type": "code",
   "execution_count": null,
   "id": "213f7be0-84e7-4630-920b-57865ec5eb41",
   "metadata": {},
   "outputs": [],
   "source": [
    "avg.ds['wspd'],avg.ds['wdir'] = calc_wind(avg.ds)\n",
    "avg.calc_stress(ustar=ustar_mean)"
   ]
  },
  {
   "cell_type": "code",
   "execution_count": null,
   "id": "1b38dcf2-a86d-4a51-ad57-dc2b0c4efbba",
   "metadata": {},
   "outputs": [],
   "source": [
    "plot_int = 3600 # plotting interval, in output time steps\n",
    "t = avg.t.values\n",
    "times_to_plot = t[::plot_int]"
   ]
  },
  {
   "cell_type": "code",
   "execution_count": null,
   "id": "787c780f-2cb9-4399-81e6-3b6a3e0572f3",
   "metadata": {},
   "outputs": [],
   "source": [
    "#fig,axs = plot_profile(avg.ds, fields=['u','v','θ'], times=times_to_plot, cmap='viridis')\n",
    "fig,axs = plot_profile(avg.ds, fields=['wspd','wdir','θ'], times=times_to_plot, cmap='viridis')"
   ]
  },
  {
   "cell_type": "code",
   "execution_count": null,
   "id": "54419cf3-db82-44fc-a876-bbd347ce7ae7",
   "metadata": {},
   "outputs": [],
   "source": [
    "fig,axs = plot_profile(avg.ds, fields=['shear_stress_norm','uw_tot_norm','vw_tot_norm','hfx_tot'], times=times_to_plot, cmap='viridis')\n",
    "axs[0].set_xlabel(r\"$\\sqrt{\\langle u'w'\\rangle_{tot}^2 + \\langle v'w'\\rangle_{tot}^2} / u_*^2$\")\n",
    "axs[1].set_xlabel(r\"$\\langle u'w'\\rangle_{tot} / u_*^2$\")\n",
    "axs[2].set_xlabel(r\"$\\langle v'w'\\rangle_{tot} / u_*^2$\")\n",
    "axs[3].set_xlabel(r\"$\\langle \\theta'w'\\rangle_{tot}$\")"
   ]
  },
  {
   "cell_type": "code",
   "execution_count": null,
   "id": "c896214c-f88a-4b21-9f7f-880f91bfdb7a",
   "metadata": {},
   "outputs": [],
   "source": [
    "fig,axs = plot_profile(avg.ds, fields=['uu_tot_norm','vv_tot_norm','ww_tot_norm'], times=times_to_plot, cmap='viridis')\n",
    "axs[0].set_xlabel(r\"$\\langle u'u'\\rangle_{tot} / u_*^2$\")\n",
    "axs[1].set_xlabel(r\"$\\langle v'v'\\rangle_{tot} / u_*^2$\")\n",
    "axs[2].set_xlabel(r\"$\\langle w'w'\\rangle_{tot} / u_*^2$\")"
   ]
  },
  {
   "cell_type": "code",
   "execution_count": null,
   "id": "835f912f-cff4-4961-9d42-38c4e1f119ab",
   "metadata": {},
   "outputs": [],
   "source": []
  }
 ],
 "metadata": {
  "kernelspec": {
   "display_name": "forge",
   "language": "python",
   "name": "forge"
  },
  "language_info": {
   "codemirror_mode": {
    "name": "ipython",
    "version": 3
   },
   "file_extension": ".py",
   "mimetype": "text/x-python",
   "name": "python",
   "nbconvert_exporter": "python",
   "pygments_lexer": "ipython3",
   "version": "3.11.9"
  }
 },
 "nbformat": 4,
 "nbformat_minor": 5
}
